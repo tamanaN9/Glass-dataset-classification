{
 "cells": [
  {
   "cell_type": "markdown",
   "metadata": {},
   "source": [
    "### Glass Type Classification\n",
    "\n",
    "\n",
    "Documentation: Dr. Bengfort's Wheat Classification lab\n",
    "\n",
    "\n",
    "This notebook explore some classification methods on Glass Identification Data Set from UCI's Machine Learning repository (https://archive.ics.uci.edu/ml/datasets/glass+identification)\n",
    "The data set provides details about 6 types of glass, defined in terms of their oxide content (i.e. Na, Fe, K, etc).\n",
    "\n",
    "\n",
    "The dataset description is as follows:\n",
    "\n",
    "Data Set: Multivariate\n",
    "Attribute: Real\n",
    "Associated Tasks: Classification\n",
    "Number of Instances: 214\n",
    "Number of Attributes: 10\n",
    "\n",
    "\n",
    "\n",
    "### Data Set Information:\n",
    "\n",
    "Vina conducted a comparison test of her rule-based system, BEAGLE, the nearest-neighbor algorithm, and discriminant analysis. BEAGLE is a product available through VRS Consulting,Inc. In determining whether the glass was a type of \"float\" glass or not, the following results were obtained (# incorrect answers):\n",
    "\n",
    "Type of Sample -- Beagle -- NN -- DA\n",
    "Windows that were float processed (87) -- 10 -- 12 -- 21\n",
    "Windows that were not: (76) -- 19 -- 16 -- 22\n",
    "\n",
    "The study of classification of types of glass was motivated by criminological investigation. At the scene of the crime, the glass left can be used as evidence...if it is correctly identified.\n",
    "\n",
    "Attribute Information or the columns in this dataset are:\n",
    "\n",
    "- Id number: 1 to 214\n",
    "- RI: refractive index\n",
    "- Na: Sodium\n",
    "- Mg: Magnesium\n",
    "- Al: Aluminum\n",
    "- Si: Silica\n",
    "- K: Potassium\n",
    "- Ca: Calcium\n",
    "- Ba: Barium\n",
    "- Fe: Iron\n",
    "\n",
    "Type of glass (Target label)\n",
    "\n",
    "\n",
    "The Target label, Type of Glass has 6 classes:\n",
    "\n",
    "1: building_windows_float_processed\n",
    "\n",
    "2: building_windows_non_float_processed\n",
    "\n",
    "3: vehicle_windows_float_processed\n",
    "\n",
    "5: containers\n",
    "\n",
    "6: tableware\n",
    "\n",
    "7: headlamps"
   ]
  },
  {
   "cell_type": "markdown",
   "metadata": {},
   "source": [
    "### Importing the libraries"
   ]
  },
  {
   "cell_type": "code",
   "execution_count": 19,
   "metadata": {},
   "outputs": [],
   "source": [
    "%matplotlib inline\n",
    "import missingno as msno\n",
    "\n",
    "import os\n",
    "import json\n",
    "import time\n",
    "import pickle\n",
    "import requests\n",
    "\n",
    "\n",
    "import numpy as np\n",
    "import pandas as pd\n",
    "import seaborn as sns\n",
    "sns.set(style=\"whitegrid\")\n",
    "import matplotlib.pyplot as plt\n",
    "\n",
    "from cycler import cycler\n",
    "from sklearn import metrics\n",
    "from sklearn.datasets.base import Bunch\n",
    "from sklearn.model_selection import KFold\n",
    "from sklearn.neighbors import KNeighborsClassifier\n",
    "from sklearn.ensemble import RandomForestClassifier\n",
    "from sklearn.svm import SVC\n",
    "from sklearn.linear_model import LogisticRegressionCV, LogisticRegression, SGDClassifier\n",
    "from sklearn.model_selection import GridSearchCV\n",
    "from sklearn.pipeline import make_pipeline\n",
    "from sklearn.model_selection import train_test_split as tts\n",
    "from sklearn.metrics import f1_score\n",
    "from sklearn.metrics import recall_score\n",
    "from sklearn.metrics import accuracy_score\n",
    "from sklearn.metrics import precision_score\n",
    "from sklearn.metrics import confusion_matrix\n",
    "from sklearn.metrics import classification_report\n",
    "\n",
    "from yellowbrick.features import Rank1D\n",
    "from yellowbrick.features import Rank2D\n",
    "from yellowbrick.classifier import ClassificationReport\n",
    "from yellowbrick.features.importances import FeatureImportances\n",
    "\n",
    "\n",
    "\n",
    "\n",
    "import warnings\n",
    "warnings.filterwarnings('ignore')"
   ]
  },
  {
   "cell_type": "markdown",
   "metadata": {},
   "source": [
    "### Data Exploration"
   ]
  },
  {
   "cell_type": "code",
   "execution_count": 20,
   "metadata": {},
   "outputs": [],
   "source": [
    "URL = \"https://archive.ics.uci.edu/ml/machine-learning-databases/glass/glass.data\"\n",
    "\n",
    "\n",
    "def fetch_data(fname='glass.csv'):\n",
    "    \n",
    "    response = requests.get(URL)\n",
    "    outpath  = os.path.abspath(fname)\n",
    "    with open(outpath, 'wb') as f:\n",
    "        f.write(response.content)\n",
    "    \n",
    "    return outpath\n",
    "\n",
    "# Fetch the data if required\n",
    "DATA = fetch_data()"
   ]
  },
  {
   "cell_type": "code",
   "execution_count": 21,
   "metadata": {
    "scrolled": false
   },
   "outputs": [
    {
     "name": "stdout",
     "output_type": "stream",
     "text": [
      "         id_number          ri          na          mg          al  \\\n",
      "count   214.000000  214.000000  214.000000  214.000000  214.000000   \n",
      "unique         NaN         NaN         NaN         NaN         NaN   \n",
      "top            NaN         NaN         NaN         NaN         NaN   \n",
      "freq           NaN         NaN         NaN         NaN         NaN   \n",
      "mean    107.500000    1.518365   13.407850    2.684533    1.444907   \n",
      "std      61.920648    0.003037    0.816604    1.442408    0.499270   \n",
      "min       1.000000    1.511150   10.730000    0.000000    0.290000   \n",
      "25%      54.250000    1.516523   12.907500    2.115000    1.190000   \n",
      "50%     107.500000    1.517680   13.300000    3.480000    1.360000   \n",
      "75%     160.750000    1.519157   13.825000    3.600000    1.630000   \n",
      "max     214.000000    1.533930   17.380000    4.490000    3.500000   \n",
      "\n",
      "                si           k          ca          ba          fe  \\\n",
      "count   214.000000  214.000000  214.000000  214.000000  214.000000   \n",
      "unique         NaN         NaN         NaN         NaN         NaN   \n",
      "top            NaN         NaN         NaN         NaN         NaN   \n",
      "freq           NaN         NaN         NaN         NaN         NaN   \n",
      "mean     72.650935    0.497056    8.956963    0.175047    0.057009   \n",
      "std       0.774546    0.652192    1.423153    0.497219    0.097439   \n",
      "min      69.810000    0.000000    5.430000    0.000000    0.000000   \n",
      "25%      72.280000    0.122500    8.240000    0.000000    0.000000   \n",
      "50%      72.790000    0.555000    8.600000    0.000000    0.000000   \n",
      "75%      73.087500    0.610000    9.172500    0.000000    0.100000   \n",
      "max      75.410000    6.210000   16.190000    3.150000    0.510000   \n",
      "\n",
      "                                       class  \n",
      "count                                    214  \n",
      "unique                                     6  \n",
      "top     building_windows_non_float_processed  \n",
      "freq                                      76  \n",
      "mean                                     NaN  \n",
      "std                                      NaN  \n",
      "min                                      NaN  \n",
      "25%                                      NaN  \n",
      "50%                                      NaN  \n",
      "75%                                      NaN  \n",
      "max                                      NaN  \n"
     ]
    }
   ],
   "source": [
    "FEATURES  = [\n",
    "    'id_number', \n",
    "    'ri', \n",
    "    'na', \n",
    "    'mg', \n",
    "    'al', \n",
    "    'si', \n",
    "    'k', \n",
    "    'ca', \n",
    "    'ba', \n",
    "    'fe', \n",
    "    'class'\n",
    "]\n",
    "\n",
    "CLASS_LABEL_MAP = {\n",
    "    1: 'building_windows_float_processed' ,\n",
    "    2: 'building_windows_non_float_processed' ,\n",
    "    3: 'vehicle_windows_float_processed' ,\n",
    "    4: 'vehicle_windows_non_float_processed' ,\n",
    "    5: 'containers' ,\n",
    "    6: 'tableware' ,\n",
    "    7: 'headlamps' ,\n",
    "}\n",
    "                   \n",
    "# Read the data into a DataFrame\n",
    "df = pd.read_csv(DATA, header=None, names=FEATURES)\n",
    "\n",
    "# Convert class labels into text\n",
    "df['class'] = df['class'].map(CLASS_LABEL_MAP)\n",
    "\n",
    "# Describe the dataset\n",
    "print(df.describe(include='all'))"
   ]
  },
  {
   "cell_type": "code",
   "execution_count": 22,
   "metadata": {
    "scrolled": true
   },
   "outputs": [
    {
     "name": "stdout",
     "output_type": "stream",
     "text": [
      "214 instances with 11 features\n",
      "\n",
      "col_0                                 count\n",
      "class                                      \n",
      "building_windows_float_processed         70\n",
      "building_windows_non_float_processed     76\n",
      "containers                               13\n",
      "headlamps                                29\n",
      "tableware                                 9\n",
      "vehicle_windows_float_processed          17\n"
     ]
    }
   ],
   "source": [
    "# Determine the shape of the data\n",
    "print(\"{} instances with {} features\\n\".format(*df.shape))\n",
    "\n",
    "# Determine the frequency of each class\n",
    "print(pd.crosstab(index=df['class'], columns=\"count\"))"
   ]
  },
  {
   "cell_type": "code",
   "execution_count": 23,
   "metadata": {
    "scrolled": true
   },
   "outputs": [
    {
     "name": "stdout",
     "output_type": "stream",
     "text": [
      "(214, 9) (214,)\n"
     ]
    }
   ],
   "source": [
    "from sklearn.preprocessing import LabelEncoder\n",
    "\n",
    "# Extract our X and y data\n",
    "X = df[FEATURES[1:-1]]\n",
    "y = df['class']\n",
    "\n",
    "# Encode our target variable\n",
    "encoder = LabelEncoder().fit(y)\n",
    "y = encoder.transform(y)\n",
    "\n",
    "print(X.shape, y.shape)"
   ]
  },
  {
   "cell_type": "code",
   "execution_count": 24,
   "metadata": {},
   "outputs": [],
   "source": [
    "X  = df.drop(['id_number','class'], axis=1)\n",
    "y = df['class']"
   ]
  },
  {
   "cell_type": "code",
   "execution_count": 25,
   "metadata": {},
   "outputs": [
    {
     "data": {
      "image/png": "[encoded data removed]",
      "text/plain": [
       "<Figure size 720x504 with 1 Axes>"
      ]
     },
     "metadata": {},
     "output_type": "display_data"
    }
   ],
   "source": [
    "# Creating visualizer with the Sharpiro feature ranking algorithm\n",
    "fig, ax = plt.subplots(figsize=(10,7))\n",
    "visualizer = Rank1D(FEATURES=FEATURES, ax=ax, algorithm='shapiro')\n",
    "ax.spines['right'].set_visible(False)\n",
    "ax.spines['top'].set_visible(False)\n",
    "ax.spines['left'].set_visible(False)\n",
    "ax.spines['bottom'].set_visible(False)\n",
    "\n",
    "visualizer.fit(X, y)\n",
    "visualizer.transform(X)\n",
    "visualizer.poof()"
   ]
  },
  {
   "cell_type": "code",
   "execution_count": 26,
   "metadata": {
    "scrolled": true
   },
   "outputs": [
    {
     "data": {
      "image/png": "[encoded data removed]",
      "text/plain": [
       "<Figure size 720x504 with 2 Axes>"
      ]
     },
     "metadata": {},
     "output_type": "display_data"
    }
   ],
   "source": [
    "figsize=(10,7)\n",
    "fig, ax = plt.subplots(figsize=figsize)\n",
    "visualizer = Rank2D(FEATURES=FEATURES, ax=ax, algorithm='covariance', colormap='summer')\n",
    "ax.spines['right'].set_visible(False)\n",
    "ax.spines['top'].set_visible(False)\n",
    "ax.spines['left'].set_visible(False)\n",
    "ax.spines['bottom'].set_visible(False)\n",
    "\n",
    "visualizer.fit(X, y)\n",
    "visualizer.transform(X)\n",
    "visualizer.poof()"
   ]
  },
  {
   "cell_type": "code",
   "execution_count": 27,
   "metadata": {
    "scrolled": true
   },
   "outputs": [
    {
     "data": {
      "image/png": "[encoded data removed]",
      "text/plain": [
       "<Figure size 720x504 with 2 Axes>"
      ]
     },
     "metadata": {},
     "output_type": "display_data"
    }
   ],
   "source": [
    "# Instantiate the visualizer with the Pearson ranking algorithm\n",
    "\n",
    "figsize=(10,7)\n",
    "fig, ax = plt.subplots(figsize=figsize)\n",
    "visualizer = Rank2D(FEATURES=FEATURES, algorithm='pearson', colormap='winter')\n",
    "ax.spines['right'].set_visible(False)\n",
    "ax.spines['top'].set_visible(False)\n",
    "ax.spines['left'].set_visible(False)\n",
    "ax.spines['bottom'].set_visible(False)\n",
    "\n",
    "visualizer.fit(X, y)\n",
    "visualizer.transform(X)\n",
    "visualizer.poof()"
   ]
  },
  {
   "cell_type": "markdown",
   "metadata": {},
   "source": [
    "### Data Extraction "
   ]
  },
  {
   "cell_type": "code",
   "execution_count": 28,
   "metadata": {
    "scrolled": true
   },
   "outputs": [],
   "source": [
    "from sklearn.datasets.base import Bunch\n",
    "\n",
    "DATA_DIR = os.getcwd()\n"
   ]
  },
  {
   "cell_type": "code",
   "execution_count": 29,
   "metadata": {
    "scrolled": true
   },
   "outputs": [
    {
     "name": "stdout",
     "output_type": "stream",
     "text": [
      "(214, 9)\n",
      "(214,)\n"
     ]
    }
   ],
   "source": [
    "def load_data(root=DATA_DIR):\n",
    "    # Construct the `Bunch` for the glass dataset\n",
    "    filenames     = {\n",
    "        'meta': os.path.join(root, 'glassmeta.json'),\n",
    "        'rdme': os.path.join(root, 'glass.names'),\n",
    "        'data': os.path.join(root, 'glass.csv'),\n",
    "    }\n",
    "\n",
    "    # Load the meta data from the meta json\n",
    "    with open(filenames['meta'], 'r') as f:\n",
    "        meta = json.load(f)\n",
    "        target_names  = meta['target_names']\n",
    "        feature_names = meta['feature_names']\n",
    "\n",
    "    # Load the description from the README. \n",
    "    with open(filenames['rdme'], 'r') as f:\n",
    "        DESCR = f.read()\n",
    "\n",
    "    # Load the dataset from the text file.\n",
    "    dataset = np.loadtxt(filenames['data'], delimiter = \",\")\n",
    "\n",
    "   # Extract the target from the data\n",
    "    data   = dataset[:, 1:-1]\n",
    "    target = dataset[:, -1]\n",
    "\n",
    "    # Create the bunch object\n",
    "    return Bunch(\n",
    "        data=data,\n",
    "        target=target,\n",
    "        filenames=filenames,\n",
    "        target_names=target_names,\n",
    "        feature_names=feature_names,\n",
    "        DESCR=DESCR\n",
    "    )\n",
    "\n",
    "# Save the dataset as a variable we can use.\n",
    "dataset = load_data()\n",
    "\n",
    "print(dataset.data.shape)\n",
    "print(dataset.target.shape)"
   ]
  },
  {
   "cell_type": "markdown",
   "metadata": {},
   "source": [
    "### Classification"
   ]
  },
  {
   "cell_type": "code",
   "execution_count": 30,
   "metadata": {},
   "outputs": [],
   "source": [
    "def fit_and_evaluate(dataset, model, label, **kwargs):\n",
    "    \"\"\"\n",
    "    Because of the Scikit-Learn API, we can create a function to\n",
    "    do all of the fit and evaluate work on our behalf!\n",
    "    \"\"\"\n",
    "    start  = time.time() # Start the clock! \n",
    "    scores = {'precision':[], 'recall':[], 'accuracy':[], 'f1':[]}\n",
    "    \n",
    "    kf = KFold(n_splits = 12, shuffle=True)\n",
    "    \n",
    "    for train, test in kf.split(dataset.data):\n",
    "        X_train, X_test = dataset.data[train], dataset.data[test]\n",
    "        y_train, y_test = dataset.target[train], dataset.target[test]\n",
    "        \n",
    "        estimator = model(**kwargs)\n",
    "        estimator.fit(X_train, y_train)\n",
    "        \n",
    "        expected  = y_test\n",
    "        predicted = estimator.predict(X_test)\n",
    "        \n",
    "        # Append our scores to the tracker\n",
    "        scores['precision'].append(metrics.precision_score(expected, predicted, average=\"weighted\"))\n",
    "        scores['recall'].append(metrics.recall_score(expected, predicted, average=\"weighted\"))\n",
    "        scores['accuracy'].append(metrics.accuracy_score(expected, predicted))\n",
    "        scores['f1'].append(metrics.f1_score(expected, predicted, average=\"weighted\"))\n",
    "\n",
    "    # Report\n",
    "    print(\"Build and Validation of {} took {:0.3f} seconds\".format(label, time.time()-start))\n",
    "    print(\"Validation scores are as follows:\\n\")\n",
    "    print(pd.DataFrame(scores).mean())\n",
    "    \n",
    "    # Write official estimator to disk\n",
    "    estimator = model(**kwargs)\n",
    "    estimator.fit(dataset.data, dataset.target)\n",
    "    \n",
    "    outpath = label.lower().replace(\" \", \"-\") + \".pickle\"\n",
    "    with open(outpath, 'wb') as f:\n",
    "        pickle.dump(estimator, f)\n",
    "\n",
    "    ##print(\"\\nFitted model written to:\\n{}\".format(os.path.abspath(outpath)))"
   ]
  },
  {
   "cell_type": "code",
   "execution_count": 31,
   "metadata": {
    "scrolled": false
   },
   "outputs": [
    {
     "name": "stdout",
     "output_type": "stream",
     "text": [
      "Build and Validation of Glass kNN Classifier took 0.035 seconds\n",
      "Validation scores are as follows:\n",
      "\n",
      "precision    0.607073\n",
      "recall       0.620370\n",
      "accuracy     0.620370\n",
      "f1           0.584565\n",
      "dtype: float64\n"
     ]
    }
   ],
   "source": [
    "# Performing kNN Classification\n",
    "fit_and_evaluate(dataset, KNeighborsClassifier, \"Glass kNN Classifier\", n_neighbors=12)"
   ]
  },
  {
   "cell_type": "code",
   "execution_count": 32,
   "metadata": {
    "scrolled": false
   },
   "outputs": [
    {
     "name": "stdout",
     "output_type": "stream",
     "text": [
      "Build and Validation of SVC took 0.042 seconds\n",
      "Validation scores are as follows:\n",
      "\n",
      "precision    0.643813\n",
      "recall       0.677832\n",
      "accuracy     0.677832\n",
      "f1           0.642131\n",
      "dtype: float64\n"
     ]
    }
   ],
   "source": [
    "# Performing Random Forest Classification\n",
    "fit_and_evaluate(dataset,SVC,\"SVC\")"
   ]
  },
  {
   "cell_type": "code",
   "execution_count": 33,
   "metadata": {
    "scrolled": false
   },
   "outputs": [
    {
     "name": "stdout",
     "output_type": "stream",
     "text": [
      "Build and Validation of Glass Random Forest Classifier took 0.113 seconds\n",
      "Validation scores are as follows:\n",
      "\n",
      "precision    0.765222\n",
      "recall       0.748094\n",
      "accuracy     0.748094\n",
      "f1           0.732855\n",
      "dtype: float64\n"
     ]
    }
   ],
   "source": [
    "# Performing Random Forest Classification\n",
    "fit_and_evaluate(dataset, RandomForestClassifier, \"Glass Random Forest Classifier\")"
   ]
  },
  {
   "cell_type": "code",
   "execution_count": null,
   "metadata": {},
   "outputs": [],
   "source": []
  },
  {
   "cell_type": "code",
   "execution_count": null,
   "metadata": {},
   "outputs": [],
   "source": []
  }
 ],
 "metadata": {
  "kernelspec": {
   "display_name": "Python 3",
   "language": "python",
   "name": "python3"
  },
  "language_info": {
   "codemirror_mode": {
    "name": "ipython",
    "version": 3
   },
   "file_extension": ".py",
   "mimetype": "text/x-python",
   "name": "python",
   "nbconvert_exporter": "python",
   "pygments_lexer": "ipython3",
   "version": "3.7.1"
  }
 },
 "nbformat": 4,
 "nbformat_minor": 2
}
